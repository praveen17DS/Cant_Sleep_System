{
 "cells": [
  {
   "cell_type": "code",
   "execution_count": 25,
   "metadata": {},
   "outputs": [
    {
     "name": "stdout",
     "output_type": "stream",
     "text": [
      "Keep Wake : Wake Trigered \n"
     ]
    }
   ],
   "source": [
    "from tkinter import *\n",
    "\n",
    "import pyautogui\n",
    "\n",
    "\n",
    "wake_flag = True \n",
    "\n",
    "\n",
    "def wake():  \n",
    "\n",
    "    pyautogui.press(\"prntscrn\")\n",
    "\n",
    "    print(\"Keep Wake : Wake Trigered \") \n",
    "def changing():\n",
    "\n",
    "    if wake_flag:\n",
    "        wake()\n",
    "\n",
    "    root.after(150000, changing)\n",
    "\n",
    "\n",
    "def keepwake():\n",
    "\n",
    "    global wake_flag\n",
    "\n",
    "    wake_flag = True\n",
    "\n",
    "    l.config(text = \"Non Sleep Mode\", width = \"50\")\n",
    "\n",
    "\n",
    "def sleep():\n",
    "\n",
    "    global wake_flag\n",
    "\n",
    "    wake_flag = False\n",
    "\n",
    "    l.config(text = \"sleep Mode\", width = \"50\")\n",
    "\n",
    "\n",
    "if __name__ == '__main__':\n",
    "\n",
    "    root = Tk()\n",
    "\n",
    "    root.title(\"Keep Wake\")\n",
    "\n",
    "    root.geometry(\"400x200\")\n",
    "\n",
    "\n",
    "    app = Frame(root)\n",
    "    app.grid()\n",
    "\n",
    "    sleep = Button(app, text=\"Sleep Mode\", command=sleep, height = 2, width = 20)\n",
    "    keepwake = Button(app, text=\"None Sleep Mode\", command=keepwake, height = 2, width = 20)\n",
    "\n",
    "    keepwake.grid()\n",
    "    sleep.grid()\n",
    "\n",
    "    l = Label(root)\n",
    "    l.grid()\n",
    "    l.config(text = \"Non Sleep Mode\", width = \"50\")\n",
    "\n",
    "    #root.iconbitmap(\"favicon.ico\")\n",
    "\n",
    "    root.after(1000, changing)\n",
    "    root.mainloop()"
   ]
  },
  {
   "cell_type": "code",
   "execution_count": 27,
   "metadata": {},
   "outputs": [],
   "source": [
    "# jupyter nbconvert --to script autowake.ipynb\n",
    "\n",
    "# ## RUN IN  CMD BY ADDING PATH\n",
    "\n",
    "# pyinstaller --onefile autowake.py\n",
    "\n",
    "\n",
    "# ## RUN IN  CMD BY ADDING PATH"
   ]
  },
  {
   "cell_type": "code",
   "execution_count": null,
   "metadata": {},
   "outputs": [],
   "source": []
  }
 ],
 "metadata": {
  "kernelspec": {
   "display_name": "Python 3",
   "language": "python",
   "name": "python3"
  },
  "language_info": {
   "codemirror_mode": {
    "name": "ipython",
    "version": 3
   },
   "file_extension": ".py",
   "mimetype": "text/x-python",
   "name": "python",
   "nbconvert_exporter": "python",
   "pygments_lexer": "ipython3",
   "version": "3.7.6"
  }
 },
 "nbformat": 4,
 "nbformat_minor": 4
}
